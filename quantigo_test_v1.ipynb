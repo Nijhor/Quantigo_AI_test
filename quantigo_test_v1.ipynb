{
  "nbformat": 4,
  "nbformat_minor": 0,
  "metadata": {
    "colab": {
      "provenance": []
    },
    "kernelspec": {
      "name": "python3",
      "display_name": "Python 3"
    },
    "language_info": {
      "name": "python"
    }
  },
  "cells": [
    {
      "cell_type": "code",
      "execution_count": 5,
      "metadata": {
        "colab": {
          "base_uri": "https://localhost:8080/"
        },
        "id": "jc3UK_n8c8ce",
        "outputId": "0c22e756-eea1-4a4d-8579-3a5405a3a1d3"
      },
      "outputs": [
        {
          "output_type": "stream",
          "name": "stdout",
          "text": [
            "{'fruit': 'Apple', 'size': 'Large', 'color': 'Red'}\n"
          ]
        }
      ],
      "source": [
        "#read JSON file\n",
        "import json\n",
        "\n",
        "def read_json_file(file_path):\n",
        "        with open(file_path, 'r') as file:\n",
        "            data = json.load(file)\n",
        "            return data\n",
        "file_path = '/content/json/dwsample1-json.json'\n",
        "json_data = read_json_file(file_path)\n",
        "print(json_data)\n",
        "    \n"
      ]
    },
    {
      "cell_type": "code",
      "source": [
        "#format convertion\n",
        "import json\n",
        "import os\n",
        "\n",
        "def convert_json_format(input_file_path, output_file_path):\n",
        "        with open(input_file_path, 'r') as input_file:\n",
        "            data = json.load(input_file)\n",
        "\n",
        "        filename = os.path.basename(input_file_path)\n",
        "        new_filename = \"formatted_\" + filename\n",
        "        data['filename'] = new_filename\n",
        "\n",
        "        with open(output_file_path, 'w') as output_file:\n",
        "            json.dump(data, output_file, indent=4)\n",
        "        \n",
        "        print(f\"JSON file converted and saved as {output_file_path}\")\n",
        "\n",
        "# Example usage\n",
        "input_file_path = '/content/json/dwsample1-json.json'\n",
        "output_file_path = '/content/json/formatted_dwsample1-json.json'\n",
        "\n",
        "convert_json_format(input_file_path, output_file_path)\n"
      ],
      "metadata": {
        "colab": {
          "base_uri": "https://localhost:8080/"
        },
        "id": "VCQ-EepJfrW5",
        "outputId": "a94101f3-f2fa-4d1b-92fd-901bd85e5767"
      },
      "execution_count": 7,
      "outputs": [
        {
          "output_type": "stream",
          "name": "stdout",
          "text": [
            "JSON file converted and saved as /content/json/formatted_dwsample1-json.json\n"
          ]
        }
      ]
    },
    {
      "cell_type": "code",
      "source": [
        "import os\n",
        "import json\n",
        "\n",
        "path_to_json_files = '/content/json'\n",
        "json_file_names = [filename for filename in os.listdir(path_to_json_files) if filename.endswith('.json')]\n",
        "\n",
        "# Create an empty dictionary for combined data\n",
        "combined_data = {}\n",
        "\n",
        "# Iterate through each JSON file\n",
        "for json_file_name in json_file_names:\n",
        "    with open(os.path.join(path_to_json_files, json_file_name)) as json_file:\n",
        "        json_text = json.load(json_file)\n",
        "        # Update the combined dictionary with each JSON file's data\n",
        "        combined_data.update(json_text)\n",
        "\n",
        "# Print the combined dictionary\n",
        "print(combined_data)\n"
      ],
      "metadata": {
        "colab": {
          "base_uri": "https://localhost:8080/"
        },
        "id": "foUZJp1Rsrgd",
        "outputId": "427046a7-1f34-437f-a41d-cbc3756d697c"
      },
      "execution_count": 10,
      "outputs": [
        {
          "output_type": "stream",
          "name": "stdout",
          "text": [
            "{'fruit': 'Apple', 'size': 'Large', 'color': 'Red', 'firstName': 'Rack', 'lastName': 'Jackon', 'gender': 'man', 'age': 24, 'address': {'streetAddress': '126', 'city': 'San Jone', 'state': 'CA', 'postalCode': '394221'}, 'phoneNumbers': [{'type': 'home', 'number': '7383627627'}], 'quiz': {'sport': {'q1': {'question': 'Which one is correct team name in NBA?', 'options': ['New York Bulls', 'Los Angeles Kings', 'Golden State Warriros', 'Huston Rocket'], 'answer': 'Huston Rocket'}}, 'maths': {'q1': {'question': '5 + 7 = ?', 'options': ['10', '11', '12', '13'], 'answer': '12'}, 'q2': {'question': '12 - 8 = ?', 'options': ['1', '2', '3', '4'], 'answer': '4'}}}, 'filename': 'formatted_dwsample1-json.json'}\n"
          ]
        }
      ]
    }
  ]
}